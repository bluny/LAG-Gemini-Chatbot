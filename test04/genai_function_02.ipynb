{
 "cells": [
  {
   "cell_type": "markdown",
   "metadata": {},
   "source": [
    "# LLM 함수 호출"
   ]
  },
  {
   "cell_type": "code",
   "execution_count": 20,
   "metadata": {},
   "outputs": [],
   "source": [
    "import google.generativeai as genai\n",
    "import google.ai.generativelanguage as glm\n",
    "from dotenv import load_dotenv\n",
    "import os\n",
    "\n",
    "load_dotenv()\n",
    "GOOGLE_API_KEY = os.getenv('GOOGLE_API_KEY')\n",
    "GEMINI_MODEL = os.getenv('GEMINI_MODEL')"
   ]
  },
  {
   "cell_type": "code",
   "execution_count": 21,
   "metadata": {},
   "outputs": [],
   "source": [
    "# 데이터 변수 만들기\n",
    "prod_database = { \n",
    "    \"갤럭시 S24\": {\"재고\": 10, \"가격\": 1_700_000}, \n",
    "    \"갤럭시 S23\": {\"재고\": 5, \"가격\": 1_300_000}, \n",
    "    \"갤럭시 S22\": {\"재고\": 3, \"가격\": 1_100_000}, \n",
    "} "
   ]
  },
  {
   "cell_type": "code",
   "execution_count": 22,
   "metadata": {},
   "outputs": [],
   "source": [
    "# is_product_available 함수\n",
    "def is_product_available(product_name: str) -> bool:\n",
    "  \"\"\"특정 제품의 제고가 있는지 확인한다.\n",
    "  \n",
    "  Args:\n",
    "      product_name: 제품명\n",
    "  \"\"\"\n",
    "  if product_name in prod_database:\n",
    "    if prod_database[product_name][\"재고\"] > 0:\n",
    "      return True\n",
    "  return False"
   ]
  },
  {
   "cell_type": "code",
   "execution_count": 23,
   "metadata": {},
   "outputs": [],
   "source": [
    "# get_product_price 함수\n",
    "def get_product_price(product_name: str)-> int: \n",
    "    \"\"\"제품의 가격을 가져온다.\n",
    "\n",
    "    Args:\n",
    "        product_name: 제품명\n",
    "    \"\"\"\n",
    "    if product_name in prod_database: \n",
    "        return prod_database[product_name][\"가격\"] \n",
    "    return None "
   ]
  },
  {
   "cell_type": "code",
   "execution_count": 24,
   "metadata": {},
   "outputs": [],
   "source": [
    "# place_order 함수\n",
    "def place_order(product_name: str, address: str)-> str: \n",
    "    \"\"\"제품 주문결과를 반환한다.\n",
    "    Args:\n",
    "        product_name: 제품명\n",
    "        address: 배송지\n",
    "    \"\"\"\n",
    "    if is_product_available(product_name): \n",
    "        prod_database[product_name][\"재고\"] -= 1 \n",
    "        return \"주문 완료\" \n",
    "    else: \n",
    "        return \"재고 부족으로 주문 불가\" "
   ]
  },
  {
   "cell_type": "code",
   "execution_count": 25,
   "metadata": {},
   "outputs": [
    {
     "data": {
      "text/plain": [
       "dict_values([<function is_product_available at 0x0000028B87CE5800>, <function get_product_price at 0x0000028B87DE6020>, <function place_order at 0x0000028B87DE6480>])"
      ]
     },
     "execution_count": 25,
     "metadata": {},
     "output_type": "execute_result"
    }
   ],
   "source": [
    "# 모델이 JSON 문자열로 알려준 함수와 실제 함수를 연결하기 위한 매핑 정보\n",
    "function_repoistory = {\n",
    "    \"is_product_available\": is_product_available,\n",
    "    \"get_product_price\": get_product_price,\n",
    "    \"place_order\": place_order\n",
    "}\n",
    "function_repoistory.values()"
   ]
  },
  {
   "cell_type": "code",
   "execution_count": 26,
   "metadata": {},
   "outputs": [],
   "source": [
    "# 모델을 생성할 때 tools 필드에 함수 리스트 세팅\n",
    "model = genai.GenerativeModel(\n",
    "  model_name=GEMINI_MODEL,\n",
    "  tools=function_repoistory.values() # 함수의 주소값이 저장되어 있음\n",
    ")"
   ]
  },
  {
   "cell_type": "code",
   "execution_count": 27,
   "metadata": {},
   "outputs": [
    {
     "name": "stdout",
     "output_type": "stream",
     "text": [
      "parts {\n",
      "  function_call {\n",
      "    name: \"is_product_available\"\n",
      "    args {\n",
      "      fields {\n",
      "        key: \"product_name\"\n",
      "        value {\n",
      "          string_value: \"\\352\\260\\244\\353\\237\\255\\354\\213\\234 S24\"\n",
      "        }\n",
      "      }\n",
      "    }\n",
      "  }\n",
      "}\n",
      "role: \"model\"\n",
      "\n"
     ]
    }
   ],
   "source": [
    "# 메시지 주고받기\n",
    "chat_session = model.start_chat()\n",
    "prompt = \"갤럭시 S24 판매 중인가요?\"\n",
    "\n",
    "response = chat_session.send_message(prompt)\n",
    "# correct_response(response)\n",
    "print(response.candidates[0].content)"
   ]
  },
  {
   "cell_type": "code",
   "execution_count": 28,
   "metadata": {},
   "outputs": [
    {
     "name": "stdout",
     "output_type": "stream",
     "text": [
      "is_product_available args=>: {'product_name': '갤럭시 S24'}\n",
      "is_product_available result=>: True\n"
     ]
    }
   ],
   "source": [
    "# 응답으로 function_call 데이터 타입이 반환되었으므로\n",
    "# is_product_available(product_name=\"갤럭시 S24\")와 같이 특정 함수가 호출되도록 해야 함\n",
    "part = response.candidates[0].content.parts[0]\n",
    "\n",
    "if part.function_call:\n",
    "    function_call =  part.function_call\n",
    "    function_name = function_call.name\n",
    "    function_args = {k: v for k, v in function_call.args.items()}\n",
    "    print(f\"{function_name} args=>: {function_args}\")\n",
    "\n",
    "    # repository에서 key(이름)로 value(함수)를 가져온 후 딕셔너리 언패킹/패킹을 활용하여 함수를 호출\n",
    "    # 함수를 호출한 결괏값은 function_response 형태의 Part 데이터로 전달하면서 모델이 메시지를 생성할 수 있음\n",
    "    function_result = function_repoistory[function_name](**function_args)\n",
    "    print(f\"{function_name} result=>: {function_result}\")"
   ]
  },
  {
   "cell_type": "code",
   "execution_count": 29,
   "metadata": {},
   "outputs": [
    {
     "name": "stdout",
     "output_type": "stream",
     "text": [
      "function_response {\n",
      "  name: \"is_product_available\"\n",
      "  response {\n",
      "    fields {\n",
      "      key: \"content\"\n",
      "      value {\n",
      "        bool_value: true\n",
      "      }\n",
      "    }\n",
      "  }\n",
      "}\n",
      "\n",
      "-----\n",
      "parts {\n",
      "  text: \"\\353\\204\\244, \\355\\214\\220\\353\\247\\244\\355\\225\\230\\352\\263\\240 \\354\\236\\210\\354\\212\\265\\353\\213\\210\\353\\213\\244. \\n\"\n",
      "}\n",
      "role: \"model\"\n",
      "\n"
     ]
    }
   ],
   "source": [
    "part = glm.Part(\n",
    "    function_response=glm.FunctionResponse(\n",
    "        name=\"is_product_available\", \n",
    "        response={ \n",
    "            \"content\": function_result, \n",
    "        }, \n",
    "    )\n",
    ")\n",
    "\n",
    "print(part)\n",
    "response = chat_session.send_message(part)\n",
    "print(\"-----\")\n",
    "print(response.candidates[0].content)"
   ]
  },
  {
   "cell_type": "code",
   "execution_count": null,
   "metadata": {},
   "outputs": [],
   "source": []
  }
 ],
 "metadata": {
  "kernelspec": {
   "display_name": ".venv",
   "language": "python",
   "name": "python3"
  },
  "language_info": {
   "codemirror_mode": {
    "name": "ipython",
    "version": 3
   },
   "file_extension": ".py",
   "mimetype": "text/x-python",
   "name": "python",
   "nbconvert_exporter": "python",
   "pygments_lexer": "ipython3",
   "version": "3.11.9"
  }
 },
 "nbformat": 4,
 "nbformat_minor": 2
}
