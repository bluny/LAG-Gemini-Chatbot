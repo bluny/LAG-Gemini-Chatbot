{
 "cells": [
  {
   "cell_type": "markdown",
   "metadata": {},
   "source": [
    "# 벡터스토어 생성 "
   ]
  },
  {
   "cell_type": "code",
   "execution_count": 43,
   "metadata": {},
   "outputs": [],
   "source": [
    "from langchain_community.embeddings import HuggingFaceEmbeddings\n",
    "from langchain_community.vectorstores import Chroma\n",
    "from langchain_community.vectorstores import FAISS\n",
    "from langchain_community.document_loaders import CSVLoader\n",
    "\n",
    "# 텍스트 로더 추가\n",
    "from langchain_community.document_loaders import TextLoader\n",
    "from langchain.text_splitter import RecursiveCharacterTextSplitter\n",
    "from langchain_core.output_parsers import StrOutputParser\n",
    "from langchain_core.runnables import RunnablePassthrough\n",
    "\n",
    "from langchain import hub\n",
    "\n",
    "from langchain_teddynote import logging\n",
    "from dotenv import load_dotenv\n",
    "import os\n",
    "\n",
    "from langchain_google_genai import ChatGoogleGenerativeAI\n"
   ]
  },
  {
   "cell_type": "code",
   "execution_count": 2,
   "metadata": {},
   "outputs": [
    {
     "name": "stdout",
     "output_type": "stream",
     "text": [
      "LangSmith 추적을 시작합니다.\n",
      "[프로젝트명]\n",
      "bigcon_langchain_test\n"
     ]
    }
   ],
   "source": [
    "load_dotenv()\n",
    "GOOGLE_API_KEY = os.getenv('GOOGLE_API_KEY')\n",
    "# langsmith 추적 설정\n",
    "logging.langsmith(\"bigcon_langchain_test\")"
   ]
  },
  {
   "cell_type": "markdown",
   "metadata": {},
   "source": [
    "<br><hr>\n",
    "\n",
    "### 00. 각 지역별 텍스트 파일 로드"
   ]
  },
  {
   "cell_type": "code",
   "execution_count": 62,
   "metadata": {},
   "outputs": [],
   "source": [
    "# # 각 지역별 텍스트 파일 로드\n",
    "# file_paths = {\n",
    "#     # '동부': 'data/data_to_text_by_area/동부.txt',\n",
    "#     # '서부': 'data/data_to_text_by_area/서부.txt',\n",
    "#     # '남부': 'data/data_to_text_by_area/남부.txt',\n",
    "#     # '북부': 'data/data_to_text_by_area/북부.txt',\n",
    "#     '가파도': 'data/data_to_text_by_area/가파도.txt',\n",
    "#     '우도': 'data/data_to_text_by_area/우도.txt',\n",
    "#     '마라도': 'data/data_to_text_by_area/마라도.txt',\n",
    "#     '비양도': 'data/data_to_text_by_area/비양도.txt',\n",
    "#     '추자도': 'data/data_to_text_by_area/추자도.txt',\n",
    "#     'meta_text': 'data/data_to_text_by_area/meta_text.txt'\n",
    "# }\n",
    "\n",
    "# loader = TextLoader('..\\..\\data\\data_to_text_by_area\\가파도.txt', encoding='utf-8')\n",
    "# docs = loader.load()\n",
    "# print(f\"문서의 수: {len(docs)}\")\n",
    "# print('[메타데이터]\\n')\n",
    "# print(docs[0].metadata)\n",
    "# print(\"\\n=========================== [앞부분] 미리보기 ============================\\n\")\n",
    "# print(docs[0].page_content[:500])"
   ]
  },
  {
   "cell_type": "code",
   "execution_count": 59,
   "metadata": {},
   "outputs": [],
   "source": [
    "# 사용자 지역 선택 옵션 추가\n",
    "visit_region = ['북부', '가파도']"
   ]
  },
  {
   "cell_type": "code",
   "execution_count": 14,
   "metadata": {},
   "outputs": [
    {
     "name": "stdout",
     "output_type": "stream",
     "text": [
      "문서의 수: 1000\n",
      "[메타데이터]\n",
      "\n",
      "{'source': '..\\\\..\\\\data\\\\sample_without_meta.csv', 'row': 0}\n",
      "\n",
      "=========================== [앞부분] 미리보기 ============================\n",
      "\n",
      "기준년월: 10월\n",
      "가맹점명: 가파도용궁정식\n",
      "업종: 가정식\n",
      "5시_11시_평균기온: 21.70645161\n",
      "12시_13시_평균기온: 21.53467742\n",
      "14시_17시_평균기온: 19.74129032\n",
      "18시_22시_평균기온: 19.09784946\n",
      "23시_4시_평균기온: 19.57419355\n",
      "월_평균기온: 20.33089247\n",
      "지역: 가파도\n",
      "주소: 제주 서귀포시 대정읍 가파리 559-1번지 1층\n",
      "월별_업종별_이용건수_순위: 5\n",
      "월별_업종별_이용금액_순위: 4\n",
      "건당_평균_이용금액_순위: 3\n",
      "월요일_이용_건수_비중: 0.3333333333\n",
      "화요일_이용_건수_비중: 0.1111111111\n",
      "수요일_이용_건수_비중: 0.08333333333\n",
      "목요일_이용_건수_비중: 0.08333333333\n",
      "금요일_이용_건수_비중: 0.05555555556\n",
      "토요일_이용_건수_비중: 0.1944444444\n",
      "일요일_이용_건수_비중: 0.1388888889\n",
      "5시_11시_이용_건수_비중: 0.1944444444\n",
      "12시_13\n"
     ]
    }
   ],
   "source": [
    "loader = CSVLoader('..\\..\\data\\sample_without_meta.csv', encoding='cp949')\n",
    "docs = loader.load()\n",
    "print(f\"문서의 수: {len(docs)}\")\n",
    "print('[메타데이터]\\n')\n",
    "print(docs[0].metadata)\n",
    "print(\"\\n=========================== [앞부분] 미리보기 ============================\\n\")\n",
    "print(docs[0].page_content[:500])"
   ]
  },
  {
   "cell_type": "code",
   "execution_count": 46,
   "metadata": {},
   "outputs": [],
   "source": [
    "# pandas로 데이터프레임 칼럼명 가져오기\n",
    "import pandas as pd\n",
    "\n",
    "csv_path = '..\\..\\data\\sample_without_meta.csv'\n",
    "df = pd.read_csv(csv_path, encoding='cp949')\n",
    "column_names = df.columns"
   ]
  },
  {
   "cell_type": "code",
   "execution_count": 48,
   "metadata": {},
   "outputs": [
    {
     "name": "stdout",
     "output_type": "stream",
     "text": [
      "문서의 수: 1000\n",
      "[메타데이터 예시]\n",
      " {'지역': '가파도', '업종': '가정식'}\n",
      "\n",
      "=========================== [앞부분] 미리보기 ============================\n",
      "\n",
      "{'기준년월': '10월', '가맹점명': '가파도용궁정식', '업종': '가정식', '5시_11시_평균기온': 21.70645161, '12시_13시_평균기온': 21.53467742, '14시_17시_평균기온': 19.74129032, '18시_22시_평균기온': 19.09784946, '23시_4시_평균기온': 19.57419355, '월_평균기온': 20.33089247, '지역': '가파도', '주소': '제주 서귀포시 대정읍 가파리 559-1번지 1층', '월별_업종별_이용건수_순위': 5, '월별_업종별_이용금액_순위': 4, '건당_평균_이용금액_순위': 3, '월요일_이용_건수_비중': 0.3333333333, '화요일_이용_건수_비중': 0.1111111111, '수요일_이용_건수_비중': 0.08333333333, '목요일_이용_건수_비중': 0.08333333333, '금요일_이용_건수_비중': 0.05555555556, '토요일_이용_건수_비중': 0.1944\n"
     ]
    }
   ],
   "source": [
    "# test #\n",
    "from langchain.schema import Document \n",
    "\n",
    "docs = []\n",
    "for _, row in df.iterrows():\n",
    "  # 필요한 메타데이터 설정\n",
    "  metadata = {\n",
    "    '지역': row['지역'],\n",
    "    '업종': row['업종']\n",
    "  }\n",
    "  # 각 행의 데이터를 문서로 변환\n",
    "  doc = Document(\n",
    "    page_content=str(row.to_dict()),\n",
    "    metadata=metadata\n",
    "  )\n",
    "  docs.append(doc)\n",
    "\n",
    "print(f\"문서의 수: {len(docs)}\")\n",
    "print('[메타데이터 예시]\\n', docs[0].metadata)\n",
    "print(\"\\n=========================== [앞부분] 미리보기 ============================\\n\")\n",
    "print(docs[0].page_content[:500])"
   ]
  },
  {
   "cell_type": "code",
   "execution_count": 30,
   "metadata": {},
   "outputs": [
    {
     "name": "stdout",
     "output_type": "stream",
     "text": [
      "문서의 수: 1000\n",
      "[메타데이터 예시]\n",
      " {'source': '..\\\\..\\\\data\\\\sample_without_meta.csv', 'row': 0, '지역': '가파도', '가맹점명': '가정식', '업종': '가정식'}\n"
     ]
    }
   ],
   "source": [
    "# 메타데이터 추가\n",
    "for idx, doc in enumerate(docs):\n",
    "  row_data = df.iloc[idx]          # 각 문서의 index를 사용하여 행 데이터 가져오기\n",
    "  metadata = {\n",
    "    '지역': row_data['지역'],\n",
    "    '업종': row_data['업종']\n",
    "  }\n",
    "  doc.metadata.update(metadata)\n",
    "\n",
    "print(f\"문서의 수: {len(docs)}\")\n",
    "print('[메타데이터 예시]\\n', docs[0].metadata)"
   ]
  },
  {
   "cell_type": "markdown",
   "metadata": {},
   "source": [
    "<br><hr>\n",
    "\n",
    "### 01. 데이터 청크 나누기 "
   ]
  },
  {
   "cell_type": "code",
   "execution_count": 87,
   "metadata": {},
   "outputs": [
    {
     "name": "stdout",
     "output_type": "stream",
     "text": [
      "split된 문서의 수: 1000\n"
     ]
    },
    {
     "data": {
      "text/plain": [
       "[Document(metadata={'지역': '남부', '업종': '민속주점'}, page_content=\"{'기준년월': '9월', '가맹점명': '엉또민속주점', '업종': '민속주점', '5시_11시_평균기온': 25.52333333, '12시_13시_평균기온': 27.78666667, '14시_17시_평균기온': 27.45166667, '18시_22시_평균기온': 25.574, '23시_4시_평균기온': 24.60111111, '월_평균기온': 26.18735556, '지역': '남부', '주소': '제주 서귀포시 강정동 178-1번지', '월별_업종별_이용건수_순위': 4, '월별_업종별_이용금액_순위': 4, '건당_평균_이용금액_순위': 3, '월요일_이용_건수_비중': 0.1063829787, '화요일_이용_건수_비중': 0.2127659574, '수요일_이용_건수_비중': 0.1276595745, '목요일_이용_건수_비중': 0.1276595745, '금요일_이용_건수_비중': 0.1914893617, '토요일_이용_건수_비중': 0.2340425532, '일요일_이용_건수_비중': 0.0, '5시_11시_이용_건수_비중': 0.0, '12시_13시_이용_건수_비중': 0.0, '14시_17시_이용_건수_비중': 0.04255319149, '18시_22시_이용_건수_비중': 0.7872340426, '23시_4시_이용_건수_비중': 0.170212766, '현지인_이용_건수_비중': 0.6727642276, '남성_회원수_비중': 0.611, '여성_회원수_비중': 0.389, '20대_이하_회원수_비중': 0.234, '30대_회원수_비중': 0.285, '40대_회원수_비중': 0.283, '50대_회원수_비중': 0.168, '60대_이상_회원수_비중': 0.031}\"),\n",
       " Document(metadata={'지역': '남부', '업종': '베이커리'}, page_content=\"{'기준년월': '1월', '가맹점명': '채점석 베이커리 혁신도시점', '업종': '베이커리', '5시_11시_평균기온': 6.720276498, '12시_13시_평균기온': 9.508064516, '14시_17시_평균기온': 9.438709677, '18시_22시_평균기온': 7.305806452, '23시_4시_평균기온': 6.284864865, '월_평균기온': 7.851544402, '지역': '남부', '주소': '제주 서귀포시 서호동 1554-4번지', '월별_업종별_이용건수_순위': 1, '월별_업종별_이용금액_순위': 1, '건당_평균_이용금액_순위': 5, '월요일_이용_건수_비중': 0.1530172414, '화요일_이용_건수_비중': 0.1142241379, '수요일_이용_건수_비중': 0.1487068966, '목요일_이용_건수_비중': 0.1120689655, '금요일_이용_건수_비중': 0.1465517241, '토요일_이용_건수_비중': 0.1573275862, '일요일_이용_건수_비중': 0.1681034483, '5시_11시_이용_건수_비중': 0.1918103448, '12시_13시_이용_건수_비중': 0.1788793103, '14시_17시_이용_건수_비중': 0.3836206897, '18시_22시_이용_건수_비중': 0.2456896552, '23시_4시_이용_건수_비중': 0.0, '현지인_이용_건수_비중': 0.4036777583, '남성_회원수_비중': 0.422, '여성_회원수_비중': 0.578, '20대_이하_회원수_비중': 0.119, '30대_회원수_비중': 0.229, '40대_회원수_비중': 0.298, '50대_회원수_비중': 0.232, '60대_이상_회원수_비중': 0.122}\"),\n",
       " Document(metadata={'지역': '남부', '업종': '베이커리'}, page_content=\"{'기준년월': '1월', '가맹점명': '채점석 베이커리 혁신도시점', '업종': '베이커리', '5시_11시_평균기온': 6.720276498, '12시_13시_평균기온': 9.508064516, '14시_17시_평균기온': 9.438709677, '18시_22시_평균기온': 7.305806452, '23시_4시_평균기온': 6.284864865, '월_평균기온': 7.851544402, '지역': '남부', '주소': '제주 서귀포시 서호동 1554-4번지', '월별_업종별_이용건수_순위': 1, '월별_업종별_이용금액_순위': 1, '건당_평균_이용금액_순위': 5, '월요일_이용_건수_비중': 0.1530172414, '화요일_이용_건수_비중': 0.1142241379, '수요일_이용_건수_비중': 0.1487068966, '목요일_이용_건수_비중': 0.1120689655, '금요일_이용_건수_비중': 0.1465517241, '토요일_이용_건수_비중': 0.1573275862, '일요일_이용_건수_비중': 0.1681034483, '5시_11시_이용_건수_비중': 0.1918103448, '12시_13시_이용_건수_비중': 0.1788793103, '14시_17시_이용_건수_비중': 0.3836206897, '18시_22시_이용_건수_비중': 0.2456896552, '23시_4시_이용_건수_비중': 0.0, '현지인_이용_건수_비중': 0.4036777583, '남성_회원수_비중': 0.422, '여성_회원수_비중': 0.578, '20대_이하_회원수_비중': 0.119, '30대_회원수_비중': 0.229, '40대_회원수_비중': 0.298, '50대_회원수_비중': 0.232, '60대_이상_회원수_비중': 0.122}\"),\n",
       " Document(metadata={'지역': '남부', '업종': '베이커리'}, page_content=\"{'기준년월': '3월', '가맹점명': '서귀포쑥보리빵', '업종': '베이커리', '5시_11시_평균기온': 12.9281106, '12시_13시_평균기온': 15.57258065, '14시_17시_평균기온': 15.45403226, '18시_22시_평균기온': 13.43419355, '23시_4시_평균기온': 11.9344086, '월_평균기온': 13.86466513, '지역': '남부', '주소': '제주 서귀포시 동홍동 1460-12번지 1층', '월별_업종별_이용건수_순위': 4, '월별_업종별_이용금액_순위': 6, '건당_평균_이용금액_순위': 6, '월요일_이용_건수_비중': 0.2063492063, '화요일_이용_건수_비중': 0.1587301587, '수요일_이용_건수_비중': 0.1428571429, '목요일_이용_건수_비중': 0.253968254, '금요일_이용_건수_비중': 0.09523809524, '토요일_이용_건수_비중': 0.1428571429, '일요일_이용_건수_비중': 0.0, '5시_11시_이용_건수_비중': 0.380952381, '12시_13시_이용_건수_비중': 0.2063492063, '14시_17시_이용_건수_비중': 0.3968253968, '18시_22시_이용_건수_비중': 0.01587301587, '23시_4시_이용_건수_비중': 0.0, '현지인_이용_건수_비중': 0.4734513274, '남성_회원수_비중': 0.341, '여성_회원수_비중': 0.659, '20대_이하_회원수_비중': 0.045, '30대_회원수_비중': 0.148, '40대_회원수_비중': 0.24, '50대_회원수_비중': 0.328, '60대_이상_회원수_비중': 0.24}\"),\n",
       " Document(metadata={'지역': '남부', '업종': '베이커리'}, page_content=\"{'기준년월': '6월', '가맹점명': '뚜레쥬르 제주화순점', '업종': '베이커리', '5시_11시_평균기온': 22.3252381, '12시_13시_평균기온': 23.84, '14시_17시_평균기온': 23.90083333, '18시_22시_평균기온': 22.668, '23시_4시_평균기온': 21.61277778, '월_평균기온': 22.86936984, '지역': '남부', '주소': '제주 서귀포시 안덕면 화순리 1066-3번지 102, 103호', '월별_업종별_이용건수_순위': 2, '월별_업종별_이용금액_순위': 4, '건당_평균_이용금액_순위': 6, '월요일_이용_건수_비중': 0.1218637993, '화요일_이용_건수_비중': 0.1218637993, '수요일_이용_건수_비중': 0.1899641577, '목요일_이용_건수_비중': 0.164874552, '금요일_이용_건수_비중': 0.1505376344, '토요일_이용_건수_비중': 0.1290322581, '일요일_이용_건수_비중': 0.1218637993, '5시_11시_이용_건수_비중': 0.2867383513, '12시_13시_이용_건수_비중': 0.1326164875, '14시_17시_이용_건수_비중': 0.3046594982, '18시_22시_이용_건수_비중': 0.2759856631, '23시_4시_이용_건수_비중': 0.0, '현지인_이용_건수_비중': 0.4252054795, '남성_회원수_비중': 0.47, '여성_회원수_비중': 0.53, '20대_이하_회원수_비중': 0.106, '30대_회원수_비중': 0.26, '40대_회원수_비중': 0.313, '50대_회원수_비중': 0.2, '60대_이상_회원수_비중': 0.121}\")]"
      ]
     },
     "execution_count": 87,
     "metadata": {},
     "output_type": "execute_result"
    }
   ],
   "source": [
    "text_splitter = RecursiveCharacterTextSplitter(\n",
    "  chunk_size=1000, chunk_overlap=0\n",
    ")\n",
    "\n",
    "splits = text_splitter.split_documents(docs)\n",
    "print(\"split된 문서의 수:\", len(splits))\n",
    "splits[100:105]"
   ]
  },
  {
   "cell_type": "code",
   "execution_count": 88,
   "metadata": {},
   "outputs": [
    {
     "name": "stdout",
     "output_type": "stream",
     "text": [
      "메타데이터 확인: {'지역': '가파도', '업종': '가정식'}\n"
     ]
    }
   ],
   "source": [
    "print(\"메타데이터 확인:\", splits[0].metadata)"
   ]
  },
  {
   "cell_type": "markdown",
   "metadata": {},
   "source": [
    "<br><hr>\n",
    "\n",
    "### 02. 벡터스토어 생성"
   ]
  },
  {
   "cell_type": "code",
   "execution_count": 133,
   "metadata": {},
   "outputs": [
    {
     "data": {
      "application/vnd.jupyter.widget-view+json": {
       "model_id": "5036221c9e554ec68d779d2d773978fa",
       "version_major": 2,
       "version_minor": 0
      },
      "text/plain": [
       "modules.json:   0%|          | 0.00/229 [00:00<?, ?B/s]"
      ]
     },
     "metadata": {},
     "output_type": "display_data"
    },
    {
     "data": {
      "application/vnd.jupyter.widget-view+json": {
       "model_id": "2d2ab54ffbd445989a9b638f1cea8192",
       "version_major": 2,
       "version_minor": 0
      },
      "text/plain": [
       "README.md:   0%|          | 0.00/10.2k [00:00<?, ?B/s]"
      ]
     },
     "metadata": {},
     "output_type": "display_data"
    },
    {
     "data": {
      "application/vnd.jupyter.widget-view+json": {
       "model_id": "0c59667f430d4ead9288843b065711f7",
       "version_major": 2,
       "version_minor": 0
      },
      "text/plain": [
       "sentence_bert_config.json:   0%|          | 0.00/53.0 [00:00<?, ?B/s]"
      ]
     },
     "metadata": {},
     "output_type": "display_data"
    },
    {
     "data": {
      "application/vnd.jupyter.widget-view+json": {
       "model_id": "b23dcf39429c4392ada881e3c86ac364",
       "version_major": 2,
       "version_minor": 0
      },
      "text/plain": [
       "config.json:   0%|          | 0.00/664 [00:00<?, ?B/s]"
      ]
     },
     "metadata": {},
     "output_type": "display_data"
    },
    {
     "data": {
      "application/vnd.jupyter.widget-view+json": {
       "model_id": "120cc6a984b44b9da5cda4e904ccef87",
       "version_major": 2,
       "version_minor": 0
      },
      "text/plain": [
       "model.safetensors:   0%|          | 0.00/2.27G [00:00<?, ?B/s]"
      ]
     },
     "metadata": {},
     "output_type": "display_data"
    },
    {
     "ename": "",
     "evalue": "",
     "output_type": "error",
     "traceback": [
      "\u001b[1;31mThe Kernel crashed while executing code in the current cell or a previous cell. \n",
      "\u001b[1;31mPlease review the code in the cell(s) to identify a possible cause of the failure. \n",
      "\u001b[1;31mClick <a href='https://aka.ms/vscodeJupyterKernelCrash'>here</a> for more info. \n",
      "\u001b[1;31mView Jupyter <a href='command:jupyter.viewOutput'>log</a> for further details."
     ]
    }
   ],
   "source": [
    "vectorstore = FAISS.from_documents(\n",
    "  documents=splits, embedding=HuggingFaceEmbeddings(model_name='upskyy/bge-m3-Korean')\n",
    ")"
   ]
  },
  {
   "cell_type": "markdown",
   "metadata": {},
   "source": [
    "<br><hr>\n",
    "\n",
    "### 03. '지역' 필터링"
   ]
  },
  {
   "cell_type": "code",
   "execution_count": 129,
   "metadata": {},
   "outputs": [],
   "source": [
    "# 사용자 선택 지역과 일치하는 데이터만 가져오기 위한 필터 함수\n",
    "# def region_filter(doc):\n",
    "#   region = doc.metadata.get('지역').strip()\n",
    "#   return region in visit_region\n",
    "\n",
    "# 검색기 생성\n",
    "retriever = vectorstore.as_retriever(\n",
    "  search_type='mmr',\n",
    "  search_kwargs={\"k\": 10,              # 반환할 문서 수 (default: 4)\n",
    "                  \"fetch_k\": 10,       # MMR 알고리즘에 전달할 문서 수\n",
    "                  \"lambda_mult\": 0.5}, # 결과 다양성 조절 (default: 0.5)\n",
    "  # filter=region_filter\n",
    "  )"
   ]
  },
  {
   "cell_type": "markdown",
   "metadata": {},
   "source": [
    "<br><hr>\n",
    "\n",
    "### 04. 프롬프트 생성"
   ]
  },
  {
   "cell_type": "code",
   "execution_count": 130,
   "metadata": {},
   "outputs": [
    {
     "data": {
      "text/plain": [
       "ChatPromptTemplate(input_variables=['context', 'question'], input_types={}, partial_variables={}, metadata={'lc_hub_owner': 'rlm', 'lc_hub_repo': 'rag-prompt', 'lc_hub_commit_hash': '50442af133e61576e74536c6556cefe1fac147cad032f4377b60c436e6cdcb6e'}, messages=[HumanMessagePromptTemplate(prompt=PromptTemplate(input_variables=['context', 'question'], input_types={}, partial_variables={}, template=\"You are an assistant for question-answering tasks. Use the following pieces of retrieved context to answer the question. If you don't know the answer, just say that you don't know. Use three sentences maximum and keep the answer concise.\\nQuestion: {question} \\nContext: {context} \\nAnswer:\"), additional_kwargs={})])"
      ]
     },
     "execution_count": 130,
     "metadata": {},
     "output_type": "execute_result"
    }
   ],
   "source": [
    "prompt = hub.pull(\"rlm/rag-prompt\")\n",
    "prompt"
   ]
  },
  {
   "cell_type": "code",
   "execution_count": 131,
   "metadata": {},
   "outputs": [],
   "source": [
    "system_instruction = (\n",
    "\"\"\"\n",
    "당신은 제주도 여행객에게 제주도 맛집을 추천하는 '친절한 제주°C' 챗봇입니다. 제공된 데이터를 제시하며 사용자에게 맛집을 추천해주세요\"\n",
    "\"\"\"\n",
    ")\n",
    "\n",
    "llm = ChatGoogleGenerativeAI(model=\"gemini-1.5-flash\",\n",
    "                             temperature=0,\n",
    "                             max_tokens=5000,\n",
    "                             system_instruction=system_instruction\n",
    ")\n",
    "\n",
    "# 검색한 문서에서 visit_region에 없는 지역 데이터 필터링\n",
    "def filter_results_by_region(docs, visit_region):\n",
    "    return [doc for doc in docs if doc.metadata.get('지역') in visit_region]\n",
    "\n",
    "\n",
    "# 검색한 문서를 하나의 문단으로 합치기\n",
    "def format_docs(docs):\n",
    "  return \"\\n\\n\".join(doc.page_content for doc in docs)\n",
    "\n",
    "# 랭체인 생성\n",
    "rag_chain = (\n",
    "  {\"context\": retriever\n",
    "   | (lambda docs: filter_results_by_region(docs, visit_region))\n",
    "   | format_docs,\n",
    "    \"question\":RunnablePassthrough()\n",
    "  }\n",
    "  # question(사용자의 질문) 기반으로 연관성이 높은 문서 retriever 수행 >> format_docs로 문서를 하나로 만듦\n",
    "  | prompt               # 하나로 만든 문서를 prompt에 넘겨주고\n",
    "  | llm                  # llm이 원하는 답변을 만듦\n",
    "  | StrOutputParser()\n",
    ")"
   ]
  },
  {
   "cell_type": "markdown",
   "metadata": {},
   "source": [
    "<br><hr>\n",
    "\n",
    "### 05. invoke"
   ]
  },
  {
   "cell_type": "code",
   "execution_count": 132,
   "metadata": {},
   "outputs": [
    {
     "data": {
      "text/plain": [
       "'가파도 3월 20대에게 인기있는 맛집은 가파도해물짜장짬뽕입니다. 이곳은 3월에 중식 업종에서 이용 건수 2위, 이용 금액 1위를 기록했습니다. 20대 이하 회원 비중은 9.7%로 젊은 층에게 인기가 많습니다. \\n'"
      ]
     },
     "execution_count": 132,
     "metadata": {},
     "output_type": "execute_result"
    }
   ],
   "source": [
    "rag_chain.invoke(\n",
    "  '3월에 가파도에 갈거야. 3월에 20대에게 인기가 많은 가파도 맛집을 추천해줘'\n",
    ")"
   ]
  },
  {
   "cell_type": "code",
   "execution_count": 95,
   "metadata": {},
   "outputs": [
    {
     "data": {
      "text/plain": [
       "'마라도 맛집 중 4월 데이터가 있는 맛집은 마라도해녀촌입니다. 마라도해녀촌의 4월 현지인 이용 건수 비중은 4.79%입니다. \\n'"
      ]
     },
     "execution_count": 95,
     "metadata": {},
     "output_type": "execute_result"
    }
   ],
   "source": [
    "rag_chain.invoke(\n",
    "  '마라도 맛집 중, 4월 데이터가 있는 맛집의 현지인 이용 건수 비중을 알려줘'\n",
    ")"
   ]
  },
  {
   "cell_type": "code",
   "execution_count": 38,
   "metadata": {},
   "outputs": [
    {
     "data": {
      "text/plain": [
       "'20대 회원 비중이 높은 북부 중식 맛집은 해신짬뽕과 배셰프입니다. 해신짬뽕은 20대 이하 회원 비중이 12.7%이고, 배셰프는 7.6%입니다. 두 곳 모두 북부 지역에 위치하고 있으며, 중식을 전문으로 합니다. \\n'"
      ]
     },
     "execution_count": 38,
     "metadata": {},
     "output_type": "execute_result"
    }
   ],
   "source": [
    "rag_chain.invoke(\n",
    "  '북부 중식 맛집 중 20대에게 인기 있는 곳을 알려줘'\n",
    ")"
   ]
  },
  {
   "cell_type": "code",
   "execution_count": 58,
   "metadata": {},
   "outputs": [
    {
     "data": {
      "text/plain": [
       "array(['가파도용궁정식', '전망대', '가파도바다별장', '가파도핫도그', '블랑로쉐', '가파도해물짜장짬뽕',\n",
       "       '오멍가멍쉬멍'], dtype=object)"
      ]
     },
     "execution_count": 58,
     "metadata": {},
     "output_type": "execute_result"
    }
   ],
   "source": [
    "df[df['지역']=='가파도']['가맹점명'].unique()"
   ]
  },
  {
   "cell_type": "code",
   "execution_count": null,
   "metadata": {},
   "outputs": [],
   "source": []
  }
 ],
 "metadata": {
  "kernelspec": {
   "display_name": ".venv",
   "language": "python",
   "name": "python3"
  },
  "language_info": {
   "codemirror_mode": {
    "name": "ipython",
    "version": 3
   },
   "file_extension": ".py",
   "mimetype": "text/x-python",
   "name": "python",
   "nbconvert_exporter": "python",
   "pygments_lexer": "ipython3",
   "version": "3.11.9"
  }
 },
 "nbformat": 4,
 "nbformat_minor": 2
}
